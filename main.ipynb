{
  "nbformat": 4,
  "nbformat_minor": 0,
  "metadata": {
    "kernelspec": {
      "name": "python3",
      "display_name": "Python 3"
    },
    "language_info": {
      "codemirror_mode": {
        "name": "ipython",
        "version": 3
      },
      "file_extension": ".py",
      "mimetype": "text/x-python",
      "name": "python",
      "nbconvert_exporter": "python",
      "pygments_lexer": "ipython3",
      "version": "3.7.4"
    },
    "colab": {
      "name": "capsnet/main.ipynb",
      "provenance": []
    },
    "accelerator": "GPU"
  },
  "cells": [
    {
      "cell_type": "code",
      "metadata": {
        "id": "tGxn_zQ1Ghlp",
        "colab_type": "code",
        "colab": {}
      },
      "source": [
        "import numpy as np\n",
        "\n",
        "import matplotlib.pyplot as plt\n",
        "%matplotlib inline\n",
        "\n",
        "import torch\n",
        "import torch.nn as nn\n",
        "import torch.nn.functional as F\n",
        "import torch.optim as optim\n",
        "import torch.utils.data as data\n",
        "import torchvision.datasets as datasets\n",
        "import torchvision.transforms as transforms\n",
        "from torchvision.utils import make_grid\n",
        "\n",
        "USE_CUDA = True"
      ],
      "execution_count": 0,
      "outputs": []
    },
    {
      "cell_type": "markdown",
      "metadata": {
        "id": "ckwFv_1OGhlu",
        "colab_type": "text"
      },
      "source": [
        "## Load datasets"
      ]
    },
    {
      "cell_type": "code",
      "metadata": {
        "id": "ENo_1bfFGhlv",
        "colab_type": "code",
        "colab": {}
      },
      "source": [
        "pil_to_tensor_transform = transforms.ToTensor()"
      ],
      "execution_count": 0,
      "outputs": []
    },
    {
      "cell_type": "code",
      "metadata": {
        "scrolled": true,
        "id": "oD99KcnUGhlx",
        "colab_type": "code",
        "outputId": "0b2ebd04-c607-4189-ac27-f93de7bf9230",
        "colab": {
          "base_uri": "https://localhost:8080/",
          "height": 238
        }
      },
      "source": [
        "# Train set\n",
        "train_set = datasets.MNIST('./datasets', train=True, download=True, transform=pil_to_tensor_transform)\n",
        "# Test set\n",
        "test_set = datasets.MNIST('./datasets', train=False, download=True, transform=pil_to_tensor_transform)\n",
        "\n",
        "print(train_set)\n",
        "print()\n",
        "print(test_set)"
      ],
      "execution_count": 47,
      "outputs": [
        {
          "output_type": "stream",
          "text": [
            "Dataset MNIST\n",
            "    Number of datapoints: 60000\n",
            "    Root location: ./datasets\n",
            "    Split: Train\n",
            "    StandardTransform\n",
            "Transform: ToTensor()\n",
            "\n",
            "Dataset MNIST\n",
            "    Number of datapoints: 10000\n",
            "    Root location: ./datasets\n",
            "    Split: Test\n",
            "    StandardTransform\n",
            "Transform: ToTensor()\n"
          ],
          "name": "stdout"
        }
      ]
    },
    {
      "cell_type": "code",
      "metadata": {
        "id": "PaI3tuu4Ghl0",
        "colab_type": "code",
        "outputId": "65f7d022-762a-41dd-fdfd-7f4fc4a00ead",
        "colab": {
          "base_uri": "https://localhost:8080/",
          "height": 265
        }
      },
      "source": [
        "def imshow(tensor):\n",
        "    plt.imshow(tensor.squeeze(), cmap='binary')\n",
        "    plt.show()\n",
        "    \n",
        "imshow(train_set[0][0])"
      ],
      "execution_count": 48,
      "outputs": [
        {
          "output_type": "display_data",
          "data": {
            "image/png": "[encoded data removed]",
            "text/plain": [
              "<Figure size 432x288 with 1 Axes>"
            ]
          },
          "metadata": {
            "tags": []
          }
        }
      ]
    },
    {
      "cell_type": "markdown",
      "metadata": {
        "id": "1h8GzEW4Ghl2",
        "colab_type": "text"
      },
      "source": [
        "### Datasets loaders"
      ]
    },
    {
      "cell_type": "code",
      "metadata": {
        "id": "TBmFtQfmGhl3",
        "colab_type": "code",
        "colab": {}
      },
      "source": [
        "# PARAMS\n",
        "BATCH_SIZE = 64\n",
        "TEST_BATCH_SIZE = 256"
      ],
      "execution_count": 0,
      "outputs": []
    },
    {
      "cell_type": "code",
      "metadata": {
        "id": "xRh0dcmvGhl5",
        "colab_type": "code",
        "colab": {}
      },
      "source": [
        "# Train set loader\n",
        "train_set_loader = data.DataLoader(train_set, batch_size=BATCH_SIZE, shuffle=True, num_workers=4)\n",
        "# Test set loader\n",
        "test_set_loader = data.DataLoader(test_set, batch_size=TEST_BATCH_SIZE, shuffle=False, num_workers=4)"
      ],
      "execution_count": 0,
      "outputs": []
    },
    {
      "cell_type": "code",
      "metadata": {
        "id": "rjk7Aqk_Ghl6",
        "colab_type": "code",
        "colab": {}
      },
      "source": [
        ""
      ],
      "execution_count": 0,
      "outputs": []
    },
    {
      "cell_type": "markdown",
      "metadata": {
        "id": "nmexReNwGhl8",
        "colab_type": "text"
      },
      "source": [
        "## Squashing functions"
      ]
    },
    {
      "cell_type": "code",
      "metadata": {
        "id": "9PmRd96TGhl9",
        "colab_type": "code",
        "colab": {}
      },
      "source": [
        "def squash(v):\n",
        "    dot_prod = v.T @ v\n",
        "    \n",
        "    if dot_prod == 0:\n",
        "        return torch.zeros_like(v)\n",
        "    \n",
        "    unit_v = v / torch.sqrt(dot_prod)\n",
        "    squashing = dot_prod / (dot_prod+1)\n",
        "    \n",
        "    return squashing * unit_v\n",
        "\n",
        "def squash_relu(v, eps=0.00):\n",
        "    norm = v.norm()\n",
        "    \n",
        "    if norm == 0:\n",
        "        return torch.zeros_like(v)\n",
        "    \n",
        "    unit_v = v / norm\n",
        "    v = torch.tensor([\n",
        "        a if a > 0 else eps*a for a in v\n",
        "    ])\n",
        "    squashing = v.norm()\n",
        "    \n",
        "    return squashing * unit_v"
      ],
      "execution_count": 0,
      "outputs": []
    },
    {
      "cell_type": "code",
      "metadata": {
        "id": "qbXQzsCnGhl_",
        "colab_type": "code",
        "outputId": "09a66b18-8ac0-4821-b568-051c97c00e32",
        "colab": {
          "base_uri": "https://localhost:8080/",
          "height": 265
        }
      },
      "source": [
        "x = torch.linspace(-5, 5)\n",
        "\n",
        "y = [squash(torch.tensor([v]))[0] for v in x]\n",
        "y_relu = [squash_relu(torch.tensor([v]))[0] for v in x]\n",
        "\n",
        "plt.plot(x, y);\n",
        "plt.plot(x, y_relu);\n",
        "\n",
        "plt.legend(['Squashing', 'Squashing_ReLU']);"
      ],
      "execution_count": 52,
      "outputs": [
        {
          "output_type": "display_data",
          "data": {
            "image/png": "[encoded data removed]",
            "text/plain": [
              "<Figure size 432x288 with 1 Axes>"
            ]
          },
          "metadata": {
            "tags": []
          }
        }
      ]
    },
    {
      "cell_type": "markdown",
      "metadata": {
        "id": "JlWcUBstGhmB",
        "colab_type": "text"
      },
      "source": [
        "## Convolutional Layer"
      ]
    },
    {
      "cell_type": "code",
      "metadata": {
        "id": "xkpGvbwhGhmB",
        "colab_type": "code",
        "colab": {}
      },
      "source": [
        "class ConvLayer(nn.Module):\n",
        "    '''A Convolutional Layer'''\n",
        "    \n",
        "    def __init__(self, in_channels=1, out_channels=256, kernel_size=9):\n",
        "        super(ConvLayer, self).__init__()\n",
        "        \n",
        "        self.conv = nn.Conv2d(in_channels, out_channels, kernel_size)\n",
        "        \n",
        "    def forward(self, x):\n",
        "        return F.relu(self.conv(x))"
      ],
      "execution_count": 0,
      "outputs": []
    },
    {
      "cell_type": "markdown",
      "metadata": {
        "id": "9E2-9leUGhmD",
        "colab_type": "text"
      },
      "source": [
        "## Primary Capsules"
      ]
    },
    {
      "cell_type": "code",
      "metadata": {
        "id": "spbtlb7YGhmE",
        "colab_type": "code",
        "colab": {}
      },
      "source": [
        "class PrimaryCaps(nn.Module):\n",
        "    '''Primary Capsules'''\n",
        "    \n",
        "    def __init__(self, num_capsules=32, in_channels=256, out_channels=8, kernel_size=9, stride=2):\n",
        "        super(PrimaryCaps, self).__init__()\n",
        "        \n",
        "        self.capsules = nn.ModuleList([\n",
        "            nn.Conv2d(in_channels, out_channels, kernel_size, stride) for _ in range(num_capsules)\n",
        "        ])\n",
        "    \n",
        "    def forward(self, x):\n",
        "        output = []\n",
        "        \n",
        "        for capsule in self.capsules:\n",
        "            out = F.relu(capsule(x))\n",
        "            output.append(out)\n",
        "        \n",
        "        output = torch.stack(output, dim=1)\n",
        "        output = output.view(x.size(0), 32*6*6, 8)\n",
        "        \n",
        "        return self.activation(output)\n",
        "    \n",
        "    def activation(self, x, squash=squash):\n",
        "        output = torch.zeros_like(x)\n",
        "        \n",
        "        for i in range(x.size(0)):\n",
        "            for j in range(x.size(1)):\n",
        "                output[i][j][:] = squash(x[i][j][:])\n",
        "        \n",
        "        return output"
      ],
      "execution_count": 0,
      "outputs": []
    },
    {
      "cell_type": "markdown",
      "metadata": {
        "id": "39TBPL1lGhmI",
        "colab_type": "text"
      },
      "source": [
        "## Digit Capsules"
      ]
    },
    {
      "cell_type": "code",
      "metadata": {
        "id": "Ia2DiRS-GhmI",
        "colab_type": "code",
        "colab": {}
      },
      "source": [
        "class DigitCaps(nn.Module):\n",
        "    '''Digit Capsules'''\n",
        "    \n",
        "    def __init__(self, num_capsules=10, num_inputs_per_capsule=32*6*6, in_dim=8, out_dim=16, r=3):\n",
        "        super(DigitCaps, self).__init__()\n",
        "        \n",
        "        self.num_capsules = num_capsules\n",
        "        self.num_inputs_per_capsule = num_inputs_per_capsule\n",
        "        self.in_dim = in_dim\n",
        "        self.out_dim = out_dim\n",
        "        self.r = r\n",
        "        \n",
        "        self.W = nn.Parameter(torch.randn(num_inputs_per_capsule, in_dim, out_dim, dtype=torch.float32))\n",
        "    \n",
        "    def routing(self, U_hat):\n",
        "        b_ij = torch.zeros(self.num_inputs_per_capsule, self.num_capsules, dtype=torch.float32)\n",
        "        if USE_CUDA and torch.cuda.is_available():\n",
        "            b_ij = b_ij.to(torch.device('cuda'))\n",
        "        else:\n",
        "            b_ij = b_ij.to(torch.device('cpu'))\n",
        "\n",
        "        v_j = None\n",
        "        \n",
        "        for iteration in range(self.r):\n",
        "            c_ij = F.softmax(b_ij, dim=1)\n",
        "            s_j = c_ij.T.unsqueeze(0) @ U_hat\n",
        "            v_j = self.activation(s_j)\n",
        "            \n",
        "            if iteration < self.r-1:\n",
        "                b_ij = b_ij + (U_hat @ v_j.view(-1, self.out_dim, self.num_capsules)).mean(dim=0)\n",
        "            \n",
        "        return v_j\n",
        "        \n",
        "    def forward(self, x):\n",
        "        U_hat = []\n",
        "        U_hat_i = []\n",
        "        \n",
        "        for u in x:\n",
        "            for i in range(self.num_inputs_per_capsule):\n",
        "                U_hat_i.append((self.W[i].T @ u[i]).unsqueeze(0))\n",
        "            \n",
        "            U_hat.append(torch.cat(U_hat_i).unsqueeze(0))\n",
        "            U_hat_i = []\n",
        "        \n",
        "        U_hat = torch.cat(U_hat)\n",
        "        \n",
        "        return self.routing(U_hat)\n",
        "    \n",
        "    def activation(self, x, squash=squash):\n",
        "        output = torch.zeros_like(x)\n",
        "        \n",
        "        for i in range(x.size(0)):\n",
        "            for j in range(x.size(1)):\n",
        "                output[i][j][:] = squash(x[i][j][:])\n",
        "        \n",
        "        return output"
      ],
      "execution_count": 0,
      "outputs": []
    },
    {
      "cell_type": "markdown",
      "metadata": {
        "id": "1gFo8kz5GhmM",
        "colab_type": "text"
      },
      "source": [
        "## Decoder"
      ]
    },
    {
      "cell_type": "code",
      "metadata": {
        "id": "mkbIC9zeGhmN",
        "colab_type": "code",
        "colab": {}
      },
      "source": [
        "class Decoder(nn.Module):\n",
        "    '''Capsule Net Decoder'''\n",
        "    \n",
        "    def __init__(self, in_dim=16, out_dim=28*28):\n",
        "        super(Decoder, self).__init__()\n",
        "        \n",
        "        self.reconstruction_layers = nn.Sequential(\n",
        "            nn.Linear(in_dim, 512),\n",
        "            nn.ReLU(),\n",
        "            nn.Linear(512, 1024),\n",
        "            nn.ReLU(),\n",
        "            nn.Linear(1024, out_dim),\n",
        "            nn.Sigmoid()\n",
        "        )\n",
        "        \n",
        "    def forward(self, x):\n",
        "        most_active_idx = torch.norm(x, dim=2).argmax(dim=1)\n",
        "        x_masked = torch.cat([x[i, idx].unsqueeze(0) for i, idx in zip(range(x.size(0)), most_active_idx)])\n",
        "        \n",
        "        return self.reconstruction_layers(x_masked)"
      ],
      "execution_count": 0,
      "outputs": []
    },
    {
      "cell_type": "markdown",
      "metadata": {
        "id": "C_o5W0RsGhmR",
        "colab_type": "text"
      },
      "source": [
        "# Capsule Network"
      ]
    },
    {
      "cell_type": "code",
      "metadata": {
        "id": "t9dJYIdxGhmR",
        "colab_type": "code",
        "colab": {}
      },
      "source": [
        "class CapsNet(nn.Module):\n",
        "    '''Capsule Network'''\n",
        "    \n",
        "    def __init__(self):\n",
        "        super(CapsNet, self).__init__()\n",
        "        \n",
        "        self.conv_layer = ConvLayer()\n",
        "        self.primary_capsules = PrimaryCaps()\n",
        "        self.digit_capsules = DigitCaps()\n",
        "        self.decoder = Decoder()\n",
        "        \n",
        "    def forward(self, x):\n",
        "        x = self.conv_layer(x)\n",
        "        x = self.primary_capsules(x)\n",
        "        x = self.digit_capsules(x)\n",
        "        \n",
        "        reconstruction = self.decoder(x)\n",
        "        \n",
        "        return x, reconstruction\n",
        "    \n",
        "    @staticmethod\n",
        "    def loss(output, targets, reconstruction, images):\n",
        "        return CapsNet.margin_loss(output, targets) + \\\n",
        "            CapsNet.reconstruction_loss(reconstruction, images)\n",
        "\n",
        "    @staticmethod\n",
        "    def margin_loss(output, targets, lmbd=0.5, m_plus=0.9, m_minus=0.1):\n",
        "        probs = torch.norm(output, dim=2)\n",
        "        left = F.relu(m_plus - probs)**2\n",
        "        right = F.relu(probs - m_minus)**2\n",
        "\n",
        "        most_active_idx = probs.argmax(dim=1)\n",
        "        T = (most_active_idx == targets).int().unsqueeze(1)\n",
        "        loss = T * left + lmbd*(1 - T) * right\n",
        "        \n",
        "        return loss.sum()\n",
        "    \n",
        "    @staticmethod\n",
        "    def reconstruction_loss(reconstruction, images, criterion=nn.MSELoss()):\n",
        "        return criterion(reconstruction, images.view(reconstruction.size(0), -1))"
      ],
      "execution_count": 0,
      "outputs": []
    },
    {
      "cell_type": "markdown",
      "metadata": {
        "id": "h8FyB69OGhmd",
        "colab_type": "text"
      },
      "source": [
        "# Train"
      ]
    },
    {
      "cell_type": "code",
      "metadata": {
        "id": "98fL8qNRGhmd",
        "colab_type": "code",
        "outputId": "71dec2ff-8e26-4a71-8389-1f959063a072",
        "colab": {
          "base_uri": "https://localhost:8080/",
          "height": 238
        }
      },
      "source": [
        "EPOCHS = 5\n",
        "\n",
        "capsnet = CapsNet()\n",
        "optimizer = optim.Adam(capsnet.parameters(), lr=0.001)\n",
        "\n",
        "if USE_CUDA and torch.cuda.is_available():\n",
        "    print('USING CUDA')\n",
        "    capsnet = capsnet.to(torch.device('cuda'))\n",
        "else:\n",
        "    print('USING CPU')\n",
        "    capsnet = capsnet.to(torch.device('cpu'))\n",
        "\n",
        "\n",
        "for epoch in range(1, EPOCHS+1):\n",
        "    \n",
        "    print('='*10, 'TRAIN', '='*10)\n",
        "    capsnet.train()\n",
        "    running_loss = 0.0\n",
        "    \n",
        "    for i, batch in enumerate(train_set_loader, 1):\n",
        "        optimizer.zero_grad()\n",
        "        \n",
        "        # Load the batch\n",
        "        images, targets = batch\n",
        "        if USE_CUDA and torch.cuda.is_available():\n",
        "            images = images.to(torch.device('cuda'))\n",
        "            targets = targets.to(torch.device('cuda'))\n",
        "        \n",
        "        # Forward\n",
        "        output, reconstruction = capsnet(images)\n",
        "        # Compute loss\n",
        "        loss = CapsNet.loss(output, targets, reconstruction, images)\n",
        "        # Backward\n",
        "        loss.backward()\n",
        "        # Optim step\n",
        "        optimizer.step()\n",
        "        \n",
        "        running_loss += loss.item()\n",
        "        if i % 1 == 0:\n",
        "            print(f'==> EPOCH[{epoch}] ({i}/{len(train_set_loader)}): LOSS: {loss.item()}')\n",
        "    print(f'=====> EPOCH[{epoch}] Completed: Avg. LOSS: {running_loss/len(train_set_loader)}')\n",
        "    \n",
        "    print('='*10, 'EVAL', '='*10)\n",
        "    capsnet.eval()\n",
        "    running_accuracy = 0.0\n",
        "    \n",
        "    for i, batch in enumerate(test_set_loader, 1):\n",
        "\n",
        "        # Load the batch\n",
        "        images, targets = batch\n",
        "        if USE_CUDA and torc.cuda.is_available():\n",
        "            images = images.to(torch.device('cuda'))\n",
        "            targets = targets.to(torch.device('cuda'))\n",
        "        \n",
        "        with torch.no_grad():\n",
        "            # Forward\n",
        "            output, reconstruction = capsnet(images)\n",
        "            most_active_idx = output.norm(dim=2).argmax(dim=1)\n",
        "            running_accuracy += torch.sum((most_active_idx == targets)) / targets.size(0)\n",
        "\n",
        "    print(f'=====> EPOCH[{epoch}]: ACCURACY: {running_accuracy/len(test_set_loader)}')"
      ],
      "execution_count": 0,
      "outputs": [
        {
          "output_type": "stream",
          "text": [
            "USING CUDA\n",
            "========== TRAIN ==========\n",
            "==> EPOCH[1] (1/938): LOSS: 111.05752563476562\n",
            "==> EPOCH[1] (2/938): LOSS: 247.0171661376953\n",
            "==> EPOCH[1] (3/938): LOSS: 234.89208984375\n",
            "==> EPOCH[1] (4/938): LOSS: 238.92877197265625\n",
            "==> EPOCH[1] (5/938): LOSS: 218.6754608154297\n",
            "==> EPOCH[1] (6/938): LOSS: 238.88478088378906\n",
            "==> EPOCH[1] (7/938): LOSS: 230.77041625976562\n",
            "==> EPOCH[1] (8/938): LOSS: 230.74557495117188\n",
            "==> EPOCH[1] (9/938): LOSS: 226.6778564453125\n",
            "==> EPOCH[1] (10/938): LOSS: 222.62191772460938\n",
            "==> EPOCH[1] (11/938): LOSS: 238.79397583007812\n"
          ],
          "name": "stdout"
        }
      ]
    },
    {
      "cell_type": "code",
      "metadata": {
        "id": "593lrvlcGhmf",
        "colab_type": "code",
        "colab": {}
      },
      "source": [
        ""
      ],
      "execution_count": 0,
      "outputs": []
    }
  ]
}