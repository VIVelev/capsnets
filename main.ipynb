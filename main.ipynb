{
 "cells": [
  {
   "cell_type": "code",
   "execution_count": 1,
   "metadata": {
    "colab": {},
    "colab_type": "code",
    "id": "tGxn_zQ1Ghlp"
   },
   "outputs": [],
   "source": [
    "import numpy as np\n",
    "\n",
    "import matplotlib.pyplot as plt\n",
    "%matplotlib inline\n",
    "\n",
    "import torch\n",
    "import torch.nn as nn\n",
    "import torch.nn.functional as F\n",
    "import torch.optim as optim\n",
    "import torch.utils.data as data\n",
    "import torchvision.datasets as datasets\n",
    "import torchvision.transforms as transforms"
   ]
  },
  {
   "cell_type": "code",
   "execution_count": 2,
   "metadata": {},
   "outputs": [],
   "source": [
    "torch.set_num_threads(12)"
   ]
  },
  {
   "cell_type": "markdown",
   "metadata": {
    "colab_type": "text",
    "id": "ckwFv_1OGhlu"
   },
   "source": [
    "## Load datasets"
   ]
  },
  {
   "cell_type": "code",
   "execution_count": 3,
   "metadata": {
    "colab": {},
    "colab_type": "code",
    "id": "ENo_1bfFGhlv"
   },
   "outputs": [],
   "source": [
    "pil_to_tensor_transform = transforms.ToTensor()\n",
    "normalizer = transforms.Normalize((0.1307,), (0.3081,))\n",
    "\n",
    "compose = transforms.Compose([\n",
    "    pil_to_tensor_transform,\n",
    "    normalizer,\n",
    "])"
   ]
  },
  {
   "cell_type": "code",
   "execution_count": 4,
   "metadata": {
    "colab": {
     "base_uri": "https://localhost:8080/",
     "height": 238
    },
    "colab_type": "code",
    "id": "oD99KcnUGhlx",
    "outputId": "0b2ebd04-c607-4189-ac27-f93de7bf9230",
    "scrolled": true
   },
   "outputs": [
    {
     "name": "stdout",
     "output_type": "stream",
     "text": [
      "Dataset MNIST\n",
      "    Number of datapoints: 60000\n",
      "    Root location: ./datasets\n",
      "    Split: Train\n",
      "    StandardTransform\n",
      "Transform: Compose(\n",
      "               ToTensor()\n",
      "               Normalize(mean=(0.1307,), std=(0.3081,))\n",
      "           )\n",
      "\n",
      "Dataset MNIST\n",
      "    Number of datapoints: 10000\n",
      "    Root location: ./datasets\n",
      "    Split: Test\n",
      "    StandardTransform\n",
      "Transform: Compose(\n",
      "               ToTensor()\n",
      "               Normalize(mean=(0.1307,), std=(0.3081,))\n",
      "           )\n"
     ]
    }
   ],
   "source": [
    "# Train set\n",
    "train_set = datasets.MNIST('./datasets', train=True, download=True, transform=compose)\n",
    "# Test set\n",
    "test_set = datasets.MNIST('./datasets', train=False, download=True, transform=compose)\n",
    "\n",
    "print(train_set)\n",
    "print()\n",
    "print(test_set)"
   ]
  },
  {
   "cell_type": "code",
   "execution_count": 5,
   "metadata": {
    "colab": {
     "base_uri": "https://localhost:8080/",
     "height": 265
    },
    "colab_type": "code",
    "id": "PaI3tuu4Ghl0",
    "outputId": "65f7d022-762a-41dd-fdfd-7f4fc4a00ead"
   },
   "outputs": [
    {
     "data": {
      "image/png": "[encoded data removed]",
      "text/plain": [
       "<Figure size 432x288 with 1 Axes>"
      ]
     },
     "metadata": {
      "needs_background": "light"
     },
     "output_type": "display_data"
    }
   ],
   "source": [
    "def imshow(tensor):\n",
    "    plt.imshow(tensor.squeeze(), cmap='binary')\n",
    "    plt.show()\n",
    "    \n",
    "imshow(train_set[0][0])"
   ]
  },
  {
   "cell_type": "markdown",
   "metadata": {
    "colab_type": "text",
    "id": "1h8GzEW4Ghl2"
   },
   "source": [
    "### Datasets loaders"
   ]
  },
  {
   "cell_type": "code",
   "execution_count": 6,
   "metadata": {
    "colab": {},
    "colab_type": "code",
    "id": "TBmFtQfmGhl3"
   },
   "outputs": [],
   "source": [
    "# PARAMS\n",
    "BATCH_SIZE = 128\n",
    "TEST_BATCH_SIZE = 256"
   ]
  },
  {
   "cell_type": "code",
   "execution_count": 7,
   "metadata": {
    "colab": {},
    "colab_type": "code",
    "id": "xRh0dcmvGhl5"
   },
   "outputs": [],
   "source": [
    "# Train set loader\n",
    "train_set_loader = data.DataLoader(train_set, batch_size=BATCH_SIZE, shuffle=True, num_workers=4)\n",
    "# Test set loader\n",
    "test_set_loader = data.DataLoader(test_set, batch_size=TEST_BATCH_SIZE, shuffle=False, num_workers=4)"
   ]
  },
  {
   "cell_type": "markdown",
   "metadata": {
    "colab_type": "text",
    "id": "nmexReNwGhl8"
   },
   "source": [
    "## Squashing functions"
   ]
  },
  {
   "cell_type": "code",
   "execution_count": 8,
   "metadata": {
    "colab": {},
    "colab_type": "code",
    "id": "9PmRd96TGhl9"
   },
   "outputs": [],
   "source": [
    "def squash(v):\n",
    "    dot_prod = v.T @ v\n",
    "    \n",
    "    if dot_prod == 0:\n",
    "        return torch.zeros_like(v)\n",
    "    \n",
    "    unit_v = v / torch.sqrt(dot_prod)\n",
    "    squashing = dot_prod / (dot_prod+1)\n",
    "    \n",
    "    return squashing * unit_v\n",
    "\n",
    "def squash_relu(v, eps=0.00):\n",
    "    norm = v.norm()\n",
    "    \n",
    "    if norm == 0:\n",
    "        return torch.zeros_like(v)\n",
    "    \n",
    "    unit_v = v / norm\n",
    "    v = torch.tensor([\n",
    "        a if a > 0 else eps*a for a in v\n",
    "    ])\n",
    "    squashing = v.norm()\n",
    "    \n",
    "    return squashing * unit_v"
   ]
  },
  {
   "cell_type": "code",
   "execution_count": 9,
   "metadata": {
    "colab": {
     "base_uri": "https://localhost:8080/",
     "height": 265
    },
    "colab_type": "code",
    "id": "qbXQzsCnGhl_",
    "outputId": "09a66b18-8ac0-4821-b568-051c97c00e32"
   },
   "outputs": [
    {
     "data": {
      "image/png": "[encoded data removed]",
      "text/plain": [
       "<Figure size 432x288 with 1 Axes>"
      ]
     },
     "metadata": {
      "needs_background": "light"
     },
     "output_type": "display_data"
    }
   ],
   "source": [
    "x = torch.linspace(-5, 5)\n",
    "\n",
    "y = [squash(torch.tensor([v]))[0] for v in x]\n",
    "y_relu = [squash_relu(torch.tensor([v]))[0] for v in x]\n",
    "\n",
    "plt.plot(x, y);\n",
    "plt.plot(x, y_relu);\n",
    "\n",
    "plt.legend(['Squashing', 'Squashing_ReLU']);"
   ]
  },
  {
   "cell_type": "markdown",
   "metadata": {
    "colab_type": "text",
    "id": "JlWcUBstGhmB"
   },
   "source": [
    "## Convolutional Layer"
   ]
  },
  {
   "cell_type": "code",
   "execution_count": 10,
   "metadata": {
    "colab": {},
    "colab_type": "code",
    "id": "xkpGvbwhGhmB"
   },
   "outputs": [],
   "source": [
    "class ConvLayer(nn.Module):\n",
    "    '''A Convolutional Layer'''\n",
    "    \n",
    "    def __init__(self, in_channels=1, out_channels=256, kernel_size=9):\n",
    "        super(ConvLayer, self).__init__()\n",
    "        \n",
    "        self.conv = nn.Conv2d(in_channels, out_channels, kernel_size)\n",
    "        \n",
    "    def forward(self, x):\n",
    "        return F.relu(self.conv(x))"
   ]
  },
  {
   "cell_type": "markdown",
   "metadata": {
    "colab_type": "text",
    "id": "9E2-9leUGhmD"
   },
   "source": [
    "## Primary Capsules"
   ]
  },
  {
   "cell_type": "code",
   "execution_count": 11,
   "metadata": {
    "colab": {},
    "colab_type": "code",
    "id": "spbtlb7YGhmE"
   },
   "outputs": [],
   "source": [
    "class PrimaryCaps(nn.Module):\n",
    "    '''Primary Capsules'''\n",
    "    \n",
    "    def __init__(self, num_capsules=32, in_channels=256, out_channels=8, kernel_size=9, stride=2):\n",
    "        super(PrimaryCaps, self).__init__()\n",
    "        \n",
    "        self.out_channels = out_channels\n",
    "        self.capsules = nn.ModuleList([\n",
    "            nn.Conv2d(in_channels, out_channels, kernel_size, stride) for _ in range(num_capsules)\n",
    "        ])\n",
    "    \n",
    "    def forward(self, x):\n",
    "        output = []\n",
    "        \n",
    "        for capsule in self.capsules:\n",
    "            out = F.relu(capsule(x))\n",
    "            output.append(out)\n",
    "        \n",
    "        output = torch.stack(output, dim=1)\n",
    "        output = output.view(x.size(0), -1, self.out_channels)\n",
    "        \n",
    "        return self.activation(output)\n",
    "    \n",
    "    def activation(self, x):\n",
    "        '''Squash'''\n",
    "        \n",
    "        squared_norm = (x**2).sum(-1, keepdim=True) + 1e-18\n",
    "        squashing_coef = squared_norm / (1 + squared_norm)\n",
    "        \n",
    "        unit = x / torch.sqrt(squared_norm)\n",
    "        \n",
    "        return squashing_coef * unit"
   ]
  },
  {
   "cell_type": "markdown",
   "metadata": {
    "colab_type": "text",
    "id": "39TBPL1lGhmI"
   },
   "source": [
    "## Digit Capsules"
   ]
  },
  {
   "cell_type": "code",
   "execution_count": 12,
   "metadata": {
    "colab": {},
    "colab_type": "code",
    "id": "Ia2DiRS-GhmI"
   },
   "outputs": [],
   "source": [
    "class DigitCaps(nn.Module):\n",
    "    '''Digit Capsules'''\n",
    "    \n",
    "    def __init__(self, num_capsules=10, num_inputs_per_capsule=32*6*6, in_dim=8, out_dim=16, r=3, cuda=False):\n",
    "        super(DigitCaps, self).__init__()\n",
    "        \n",
    "        self.num_capsules = num_capsules\n",
    "        self.num_inputs_per_capsule = num_inputs_per_capsule\n",
    "        self.in_dim = in_dim\n",
    "        self.out_dim = out_dim\n",
    "        self.r = r\n",
    "        self.cuda = cuda\n",
    "        \n",
    "        self.W = nn.Parameter(\n",
    "            torch.randn(num_inputs_per_capsule, num_capsules, out_dim, in_dim, dtype=torch.float32)\n",
    "        )\n",
    "    \n",
    "    def routing(self, u_hat):\n",
    "        '''Dynamic Routing (Routing By Agreement)'''\n",
    "        \n",
    "        b_ij = torch.zeros(self.num_inputs_per_capsule, self.num_capsules, dtype=torch.float32)\n",
    "\n",
    "        if self.cuda and torch.cuda.is_available():\n",
    "            device = torch.device('cuda')\n",
    "        else:\n",
    "            device = torch.device('cpu')\n",
    "        b_ij = b_ij.to(device)\n",
    "        \n",
    "        for iteration in range(self.r):\n",
    "            c_ij = F.softmax(b_ij, dim=0)\n",
    "            c_ij = torch.stack([c_ij] * u_hat.size(0), dim=0).unsqueeze(3).unsqueeze(4)\n",
    "            \n",
    "            s_j = (u_hat @ c_ij).sum(dim=1)\n",
    "            v_j = self.activation(s_j)\n",
    "            \n",
    "            if iteration < self.r - 1:\n",
    "                d = u_hat.transpose(3, 4) @ torch.stack([v_j] * self.num_inputs_per_capsule, dim=1)\n",
    "                b_ij = b_ij + d.squeeze(4).squeeze(3).mean(dim=0)\n",
    "            \n",
    "        return v_j.squeeze(3)\n",
    "        \n",
    "    def forward(self, x):\n",
    "        \n",
    "        # Get the dimensions right\n",
    "        x = torch.stack([x] * self.num_capsules, dim=2).unsqueeze(4)\n",
    "        W = torch.stack([self.W] * x.size(0), dim=0)\n",
    "        \n",
    "        # Affine Transformation\n",
    "        u_hat = W @ x\n",
    "        \n",
    "        # Dynamic Routing\n",
    "        return self.routing(u_hat)\n",
    "        \n",
    "    def activation(self, x):\n",
    "        '''Squash'''\n",
    "        \n",
    "        squared_norm = (x**2).sum(-1, keepdim=True) + 1e-18\n",
    "        squashing_coef = squared_norm / (1 + squared_norm)\n",
    "        \n",
    "        unit = x / torch.sqrt(squared_norm)\n",
    "        \n",
    "        return squashing_coef * unit"
   ]
  },
  {
   "cell_type": "code",
   "execution_count": 13,
   "metadata": {},
   "outputs": [],
   "source": [
    "output = DigitCaps()(PrimaryCaps()(ConvLayer()(torch.randn(64, 1, 28, 28))))"
   ]
  },
  {
   "cell_type": "code",
   "execution_count": 14,
   "metadata": {},
   "outputs": [
    {
     "data": {
      "text/plain": [
       "torch.Size([64, 10, 16])"
      ]
     },
     "execution_count": 14,
     "metadata": {},
     "output_type": "execute_result"
    }
   ],
   "source": [
    "output.size()"
   ]
  },
  {
   "cell_type": "markdown",
   "metadata": {},
   "source": [
    "## Decoder"
   ]
  },
  {
   "cell_type": "code",
   "execution_count": 15,
   "metadata": {
    "colab": {},
    "colab_type": "code",
    "id": "mkbIC9zeGhmN"
   },
   "outputs": [],
   "source": [
    "class Decoder(nn.Module):\n",
    "    '''Capsule Net Decoder'''\n",
    "    \n",
    "    def __init__(self, in_dim=16, out_dim=28*28):\n",
    "        super(Decoder, self).__init__()\n",
    "        \n",
    "        self.reconstruction_layers = nn.Sequential(\n",
    "            nn.Linear(in_dim, 512),\n",
    "            nn.ReLU(),\n",
    "            nn.Linear(512, 1024),\n",
    "            nn.ReLU(),\n",
    "            nn.Linear(1024, out_dim),\n",
    "            nn.Sigmoid()\n",
    "        )\n",
    "        \n",
    "    def forward(self, x):\n",
    "        most_active_idx = torch.norm(x, dim=2).argmax(dim=1)\n",
    "        x_masked = torch.stack([x[i, idx] for i, idx in zip(range(x.size(0)), most_active_idx)], dim=0)\n",
    "        \n",
    "        return self.reconstruction_layers(x_masked)"
   ]
  },
  {
   "cell_type": "markdown",
   "metadata": {
    "colab_type": "text",
    "id": "C_o5W0RsGhmR"
   },
   "source": [
    "# Capsule Network"
   ]
  },
  {
   "cell_type": "code",
   "execution_count": 16,
   "metadata": {
    "colab": {},
    "colab_type": "code",
    "id": "t9dJYIdxGhmR"
   },
   "outputs": [],
   "source": [
    "class CapsNet(nn.Module):\n",
    "    '''Capsule Network'''\n",
    "    \n",
    "    def __init__(self, cuda=False):\n",
    "        super(CapsNet, self).__init__()\n",
    "        \n",
    "        self.conv_layer = ConvLayer()\n",
    "        self.primary_capsules = PrimaryCaps()\n",
    "        self.digit_capsules = DigitCaps(cuda=cuda)\n",
    "        self.decoder = Decoder()\n",
    "        \n",
    "    def forward(self, x):\n",
    "        x = self.conv_layer(x)\n",
    "        x = self.primary_capsules(x)\n",
    "        x = self.digit_capsules(x)\n",
    "        \n",
    "        reconstruction = self.decoder(x)\n",
    "        \n",
    "        return x, reconstruction\n",
    "    \n",
    "    @staticmethod\n",
    "    def loss(output, targets, reconstruction, images):\n",
    "        return CapsNet.margin_loss(output, targets) + \\\n",
    "            CapsNet.reconstruction_loss(reconstruction, images)\n",
    "\n",
    "    @staticmethod\n",
    "    def margin_loss(output, targets, lmbd=0.5, m_plus=0.9, m_minus=0.1):\n",
    "        probs = torch.norm(output, dim=2)\n",
    "        left = F.relu(m_plus - probs)**2\n",
    "        right = F.relu(probs - m_minus)**2\n",
    "\n",
    "        most_active_idx = probs.argmax(dim=1)\n",
    "        T = (most_active_idx == targets).float().unsqueeze(1)\n",
    "        loss = T * left + lmbd*(1 - T) * right\n",
    "        \n",
    "        return loss.sum()\n",
    "    \n",
    "    @staticmethod\n",
    "    def reconstruction_loss(reconstruction, images, criterion=nn.MSELoss()):\n",
    "        return criterion(reconstruction, images.view(reconstruction.size(0), -1))"
   ]
  },
  {
   "cell_type": "markdown",
   "metadata": {
    "colab_type": "text",
    "id": "h8FyB69OGhmd"
   },
   "source": [
    "# Train"
   ]
  },
  {
   "cell_type": "code",
   "execution_count": 19,
   "metadata": {},
   "outputs": [
    {
     "name": "stdout",
     "output_type": "stream",
     "text": [
      "USING CPU\n"
     ]
    }
   ],
   "source": [
    "USE_CUDA = True\n",
    "EPOCHS = 30\n",
    "\n",
    "if USE_CUDA and torch.cuda.is_available():\n",
    "    print('USING CUDA')\n",
    "    device = torch.device('cuda')\n",
    "else:\n",
    "    print('USING CPU')\n",
    "    device = torch.device('cpu')\n",
    "\n",
    "capsnet = CapsNet(cuda=USE_CUDA)\n",
    "capsnet = capsnet.to(device)\n",
    "optimizer = optim.SGD(capsnet.parameters(), lr=1e-5)\n"
   ]
  },
  {
   "cell_type": "code",
   "execution_count": 20,
   "metadata": {
    "colab": {
     "base_uri": "https://localhost:8080/",
     "height": 238
    },
    "colab_type": "code",
    "id": "98fL8qNRGhmd",
    "outputId": "71dec2ff-8e26-4a71-8389-1f959063a072",
    "scrolled": true
   },
   "outputs": [
    {
     "name": "stdout",
     "output_type": "stream",
     "text": [
      "\n",
      "========== TRAIN ==========\n",
      "==> EPOCH[1] (1/469): LOSS: 57.88624572753906 ACCURACY: 0.0546875\n",
      "==> EPOCH[1] (2/469): LOSS: 90.25154113769531 ACCURACY: 0.0859375\n",
      "==> EPOCH[1] (3/469): LOSS: 82.15869140625 ACCURACY: 0.078125\n",
      "==> EPOCH[1] (4/469): LOSS: 114.5154800415039 ACCURACY: 0.109375\n",
      "==> EPOCH[1] (5/469): LOSS: 57.89715576171875 ACCURACY: 0.0546875\n",
      "==> EPOCH[1] (6/469): LOSS: 65.95892333984375 ACCURACY: 0.0625\n",
      "==> EPOCH[1] (7/469): LOSS: 41.70224380493164 ACCURACY: 0.0390625\n"
     ]
    },
    {
     "ename": "KeyboardInterrupt",
     "evalue": "",
     "output_type": "error",
     "traceback": [
      "\u001b[0;31m---------------------------------------------------------------------------\u001b[0m",
      "\u001b[0;31mKeyboardInterrupt\u001b[0m                         Traceback (most recent call last)",
      "\u001b[0;32m<ipython-input-20-226bd8f7512c>\u001b[0m in \u001b[0;36m<module>\u001b[0;34m\u001b[0m\n\u001b[1;32m     23\u001b[0m         \u001b[0maccuracy\u001b[0m \u001b[0;34m=\u001b[0m \u001b[0mtorch\u001b[0m\u001b[0;34m.\u001b[0m\u001b[0msum\u001b[0m\u001b[0;34m(\u001b[0m\u001b[0;34m(\u001b[0m\u001b[0mmost_active_idx\u001b[0m \u001b[0;34m==\u001b[0m \u001b[0mtargets\u001b[0m\u001b[0;34m)\u001b[0m\u001b[0;34m)\u001b[0m\u001b[0;34m.\u001b[0m\u001b[0mitem\u001b[0m\u001b[0;34m(\u001b[0m\u001b[0;34m)\u001b[0m \u001b[0;34m/\u001b[0m \u001b[0mtargets\u001b[0m\u001b[0;34m.\u001b[0m\u001b[0msize\u001b[0m\u001b[0;34m(\u001b[0m\u001b[0;36m0\u001b[0m\u001b[0;34m)\u001b[0m\u001b[0;34m\u001b[0m\u001b[0;34m\u001b[0m\u001b[0m\n\u001b[1;32m     24\u001b[0m         \u001b[0;31m# Backward\u001b[0m\u001b[0;34m\u001b[0m\u001b[0;34m\u001b[0m\u001b[0;34m\u001b[0m\u001b[0m\n\u001b[0;32m---> 25\u001b[0;31m         \u001b[0mloss\u001b[0m\u001b[0;34m.\u001b[0m\u001b[0mbackward\u001b[0m\u001b[0;34m(\u001b[0m\u001b[0;34m)\u001b[0m\u001b[0;34m\u001b[0m\u001b[0;34m\u001b[0m\u001b[0m\n\u001b[0m\u001b[1;32m     26\u001b[0m         \u001b[0;31m# Optim step\u001b[0m\u001b[0;34m\u001b[0m\u001b[0;34m\u001b[0m\u001b[0;34m\u001b[0m\u001b[0m\n\u001b[1;32m     27\u001b[0m         \u001b[0moptimizer\u001b[0m\u001b[0;34m.\u001b[0m\u001b[0mstep\u001b[0m\u001b[0;34m(\u001b[0m\u001b[0;34m)\u001b[0m\u001b[0;34m\u001b[0m\u001b[0;34m\u001b[0m\u001b[0m\n",
      "\u001b[0;32m~/.local/share/virtualenvs/capsnets-0ttV1p5F/lib/python3.7/site-packages/torch/tensor.py\u001b[0m in \u001b[0;36mbackward\u001b[0;34m(self, gradient, retain_graph, create_graph)\u001b[0m\n\u001b[1;32m    148\u001b[0m                 \u001b[0mproducts\u001b[0m\u001b[0;34m.\u001b[0m \u001b[0mDefaults\u001b[0m \u001b[0mto\u001b[0m\u001b[0;31m \u001b[0m\u001b[0;31m`\u001b[0m\u001b[0;31m`\u001b[0m\u001b[0;32mFalse\u001b[0m\u001b[0;31m`\u001b[0m\u001b[0;31m`\u001b[0m\u001b[0;34m.\u001b[0m\u001b[0;34m\u001b[0m\u001b[0;34m\u001b[0m\u001b[0m\n\u001b[1;32m    149\u001b[0m         \"\"\"\n\u001b[0;32m--> 150\u001b[0;31m         \u001b[0mtorch\u001b[0m\u001b[0;34m.\u001b[0m\u001b[0mautograd\u001b[0m\u001b[0;34m.\u001b[0m\u001b[0mbackward\u001b[0m\u001b[0;34m(\u001b[0m\u001b[0mself\u001b[0m\u001b[0;34m,\u001b[0m \u001b[0mgradient\u001b[0m\u001b[0;34m,\u001b[0m \u001b[0mretain_graph\u001b[0m\u001b[0;34m,\u001b[0m \u001b[0mcreate_graph\u001b[0m\u001b[0;34m)\u001b[0m\u001b[0;34m\u001b[0m\u001b[0;34m\u001b[0m\u001b[0m\n\u001b[0m\u001b[1;32m    151\u001b[0m \u001b[0;34m\u001b[0m\u001b[0m\n\u001b[1;32m    152\u001b[0m     \u001b[0;32mdef\u001b[0m \u001b[0mregister_hook\u001b[0m\u001b[0;34m(\u001b[0m\u001b[0mself\u001b[0m\u001b[0;34m,\u001b[0m \u001b[0mhook\u001b[0m\u001b[0;34m)\u001b[0m\u001b[0;34m:\u001b[0m\u001b[0;34m\u001b[0m\u001b[0;34m\u001b[0m\u001b[0m\n",
      "\u001b[0;32m~/.local/share/virtualenvs/capsnets-0ttV1p5F/lib/python3.7/site-packages/torch/autograd/__init__.py\u001b[0m in \u001b[0;36mbackward\u001b[0;34m(tensors, grad_tensors, retain_graph, create_graph, grad_variables)\u001b[0m\n\u001b[1;32m     97\u001b[0m     Variable._execution_engine.run_backward(\n\u001b[1;32m     98\u001b[0m         \u001b[0mtensors\u001b[0m\u001b[0;34m,\u001b[0m \u001b[0mgrad_tensors\u001b[0m\u001b[0;34m,\u001b[0m \u001b[0mretain_graph\u001b[0m\u001b[0;34m,\u001b[0m \u001b[0mcreate_graph\u001b[0m\u001b[0;34m,\u001b[0m\u001b[0;34m\u001b[0m\u001b[0;34m\u001b[0m\u001b[0m\n\u001b[0;32m---> 99\u001b[0;31m         allow_unreachable=True)  # allow_unreachable flag\n\u001b[0m\u001b[1;32m    100\u001b[0m \u001b[0;34m\u001b[0m\u001b[0m\n\u001b[1;32m    101\u001b[0m \u001b[0;34m\u001b[0m\u001b[0m\n",
      "\u001b[0;31mKeyboardInterrupt\u001b[0m: "
     ]
    }
   ],
   "source": [
    "for epoch in range(1, EPOCHS+1):\n",
    "    \n",
    "    print()\n",
    "    print('='*10, 'TRAIN', '='*10)\n",
    "    capsnet.train()\n",
    "    running_loss = 0.0\n",
    "    running_accuracy = 0.0\n",
    "    \n",
    "    for i, batch in enumerate(train_set_loader, 1):\n",
    "        optimizer.zero_grad()\n",
    "        \n",
    "        # Load the batch\n",
    "        images, targets = batch\n",
    "        images = images.to(device)\n",
    "        targets = targets.to(device)\n",
    "        \n",
    "        # Forward\n",
    "        output, reconstruction = capsnet(images)\n",
    "        # Compute loss\n",
    "        loss = CapsNet.loss(output, targets, reconstruction, images)\n",
    "        # Compute accuracy\n",
    "        most_active_idx = output.norm(dim=2).argmax(dim=1)\n",
    "        accuracy = torch.sum((most_active_idx == targets)).item() / targets.size(0)\n",
    "        # Backward\n",
    "        loss.backward()\n",
    "        # Optim step\n",
    "        optimizer.step()\n",
    "        \n",
    "        # Add loss\n",
    "        running_loss += loss.item()\n",
    "        # Add accuracy\n",
    "        running_accuracy += accuracy\n",
    "        \n",
    "        if i % 100 == 0:\n",
    "            print(f'==> EPOCH[{epoch}] ({i}/{len(train_set_loader)}): LOSS: {loss.item()} ACCURACY: {accuracy}')\n",
    "            \n",
    "    print(f'=====> EPOCH[{epoch}] Completed: \\\n",
    "        Avg. LOSS: {running_loss/len(train_set_loader)} Avg. ACCURACY {running_accuracy/len(train_set_loader)}')\n",
    "    \n",
    "    print()\n",
    "    print('='*10, 'EVAL', '='*10)\n",
    "    capsnet.eval()\n",
    "    running_accuracy = 0.0\n",
    "    \n",
    "    for i, batch in enumerate(test_set_loader, 1):\n",
    "\n",
    "        # Load the batch\n",
    "        images, targets = batch\n",
    "        images = images.to(device)\n",
    "        targets = targets.to(device)\n",
    "        \n",
    "        with torch.no_grad():\n",
    "            # Forward\n",
    "            output, reconstruction = capsnet(images)\n",
    "            most_active_idx = output.norm(dim=2).argmax(dim=1)\n",
    "            running_accuracy += torch.sum((most_active_idx == targets)).item() / targets.size(0)\n",
    "\n",
    "    print(f'=====> EPOCH[{epoch}]: AVG. ACCURACY: {running_accuracy/len(test_set_loader)}')"
   ]
  },
  {
   "cell_type": "code",
   "execution_count": null,
   "metadata": {},
   "outputs": [],
   "source": []
  }
 ],
 "metadata": {
  "accelerator": "GPU",
  "colab": {
   "name": "capsnet/main.ipynb",
   "provenance": []
  },
  "kernelspec": {
   "display_name": "Python 3",
   "language": "python",
   "name": "python3"
  },
  "language_info": {
   "codemirror_mode": {
    "name": "ipython",
    "version": 3
   },
   "file_extension": ".py",
   "mimetype": "text/x-python",
   "name": "python",
   "nbconvert_exporter": "python",
   "pygments_lexer": "ipython3",
   "version": "3.7.4"
  }
 },
 "nbformat": 4,
 "nbformat_minor": 1
}
