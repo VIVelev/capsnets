{
 "cells": [
  {
   "cell_type": "code",
   "execution_count": 1,
   "metadata": {
    "colab": {},
    "colab_type": "code",
    "id": "tGxn_zQ1Ghlp"
   },
   "outputs": [],
   "source": [
    "import numpy as np\n",
    "%matplotlib inline\n",
    "\n",
    "import torch\n",
    "import torch.optim as optim\n",
    "\n",
    "from dataset import get_set_loaders, imshow\n",
    "from capsulenet import CapsNet"
   ]
  },
  {
   "cell_type": "code",
   "execution_count": 2,
   "metadata": {},
   "outputs": [],
   "source": [
    "torch.set_num_threads(12)"
   ]
  },
  {
   "cell_type": "code",
   "execution_count": 3,
   "metadata": {
    "colab": {},
    "colab_type": "code",
    "id": "xRh0dcmvGhl5"
   },
   "outputs": [],
   "source": [
    "train_set_loader, test_set_loader = get_set_loaders()"
   ]
  },
  {
   "cell_type": "markdown",
   "metadata": {
    "colab_type": "text",
    "id": "h8FyB69OGhmd"
   },
   "source": [
    "# Train"
   ]
  },
  {
   "cell_type": "markdown",
   "metadata": {},
   "source": [
    "### Init model"
   ]
  },
  {
   "cell_type": "code",
   "execution_count": 4,
   "metadata": {},
   "outputs": [
    {
     "name": "stdout",
     "output_type": "stream",
     "text": [
      "USING CPU\n",
      "State dict loaded from './models/capsnet_state.pth'\n"
     ]
    }
   ],
   "source": [
    "USE_CUDA = True\n",
    "EPOCHS = 100\n",
    "\n",
    "if USE_CUDA and torch.cuda.is_available():\n",
    "    print('USING CUDA')\n",
    "    device = torch.device('cuda')\n",
    "else:\n",
    "    print('USING CPU')\n",
    "    device = torch.device('cpu')\n",
    "\n",
    "capsnet = CapsNet(cuda=USE_CUDA)\n",
    "try:\n",
    "    capsnet.load_state_dict(\n",
    "        torch.load(open('./models/capsnet_state.pth', 'rb'), map_location=device)\n",
    "    )\n",
    "    print('State dict loaded from \\'./models/capsnet_state.pth\\'')\n",
    "except:\n",
    "    pass\n",
    "\n",
    "capsnet = capsnet.to(device)\n"
   ]
  },
  {
   "cell_type": "markdown",
   "metadata": {},
   "source": [
    "### Optimizer and LR Scheduler"
   ]
  },
  {
   "cell_type": "code",
   "execution_count": 5,
   "metadata": {},
   "outputs": [],
   "source": [
    "optimizer = optim.Adam(capsnet.parameters(), lr=0.01*(0.90**35))\n",
    "exponential_lr = optim.lr_scheduler.ExponentialLR(optimizer, gamma=0.90)"
   ]
  },
  {
   "cell_type": "markdown",
   "metadata": {},
   "source": [
    "### Train loop"
   ]
  },
  {
   "cell_type": "code",
   "execution_count": null,
   "metadata": {
    "colab": {
     "base_uri": "https://localhost:8080/",
     "height": 238
    },
    "colab_type": "code",
    "id": "98fL8qNRGhmd",
    "outputId": "71dec2ff-8e26-4a71-8389-1f959063a072",
    "scrolled": true
   },
   "outputs": [
    {
     "name": "stdout",
     "output_type": "stream",
     "text": [
      "\n",
      "========== TRAIN ==========\n"
     ]
    }
   ],
   "source": [
    "for epoch in range(1, EPOCHS+1):\n",
    "    \n",
    "    print()\n",
    "    print('='*10, 'TRAIN', '='*10)\n",
    "    capsnet.train()\n",
    "    running_loss = 0.0\n",
    "    running_accuracy = 0.0\n",
    "    \n",
    "    for i, batch in enumerate(train_set_loader, 1):        \n",
    "        # Load the batch\n",
    "        images, targets = batch\n",
    "        images = images.to(device)\n",
    "        targets = targets.to(device)\n",
    "        \n",
    "        # Zero grad\n",
    "        optimizer.zero_grad()\n",
    "        # Forward\n",
    "        output, norm, reconstruction = capsnet(images, targets)\n",
    "        # Compute loss\n",
    "        loss = CapsNet.loss(norm, targets, reconstruction, images)\n",
    "        # Compute accuracy\n",
    "        most_active_idx = norm.argmax(dim=1)\n",
    "        accuracy = torch.sum((most_active_idx == targets)).item() / targets.size(0)\n",
    "        # Backward\n",
    "        loss.backward()\n",
    "        # Optim step\n",
    "        optimizer.step()\n",
    "        \n",
    "        # Add loss\n",
    "        running_loss += loss.item()\n",
    "        # Add accuracy\n",
    "        running_accuracy += accuracy\n",
    "        \n",
    "        if i % 100 == 0:\n",
    "            print(f'==> EPOCH[{epoch}]({i}/{len(train_set_loader)}): LOSS: {loss.item()} ACCURACY: {accuracy}')\n",
    "            \n",
    "    print(f'=====> EPOCH[{epoch}] Completed: Avg. LOSS: {running_loss/len(train_set_loader)} Avg. ACCURACY {running_accuracy/len(train_set_loader)}')\n",
    "    \n",
    "    print()\n",
    "    print('='*10, 'EVAL', '='*10)\n",
    "    capsnet.eval()\n",
    "    running_accuracy = 0.0\n",
    "    \n",
    "    for i, batch in enumerate(test_set_loader, 1):\n",
    "\n",
    "        # Load the batch\n",
    "        images, targets = batch\n",
    "        images = images.to(device)\n",
    "        targets = targets.to(device)\n",
    "        \n",
    "        with torch.no_grad():\n",
    "            # Forward\n",
    "            output, norm, reconstruction = capsnet(images)\n",
    "            most_active_idx = norm.argmax(dim=1)\n",
    "            running_accuracy += torch.sum((most_active_idx == targets)).item() / targets.size(0)\n",
    "\n",
    "    print(f'=====> EPOCH[{epoch}]: AVG. ACCURACY: {running_accuracy/len(test_set_loader)}')\n",
    "    \n",
    "    # Reduce lr\n",
    "    exponential_lr.step()"
   ]
  },
  {
   "cell_type": "code",
   "execution_count": null,
   "metadata": {},
   "outputs": [],
   "source": []
  },
  {
   "cell_type": "code",
   "execution_count": null,
   "metadata": {},
   "outputs": [],
   "source": []
  },
  {
   "cell_type": "code",
   "execution_count": null,
   "metadata": {},
   "outputs": [],
   "source": []
  }
 ],
 "metadata": {
  "accelerator": "GPU",
  "colab": {
   "name": "capsnet/main.ipynb",
   "provenance": []
  },
  "kernelspec": {
   "display_name": "Python 3",
   "language": "python",
   "name": "python3"
  },
  "language_info": {
   "codemirror_mode": {
    "name": "ipython",
    "version": 3
   },
   "file_extension": ".py",
   "mimetype": "text/x-python",
   "name": "python",
   "nbconvert_exporter": "python",
   "pygments_lexer": "ipython3",
   "version": "3.7.4"
  }
 },
 "nbformat": 4,
 "nbformat_minor": 1
}
