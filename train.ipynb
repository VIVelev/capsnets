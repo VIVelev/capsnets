{
 "cells": [
  {
   "cell_type": "code",
   "execution_count": 1,
   "metadata": {
    "colab": {},
    "colab_type": "code",
    "id": "tGxn_zQ1Ghlp"
   },
   "outputs": [],
   "source": [
    "import numpy as np\n",
    "%matplotlib inline\n",
    "\n",
    "import torch\n",
    "import torch.optim as optim\n",
    "\n",
    "from dataset import get_set_loaders, imshow\n",
    "from capsulenet import CapsNet"
   ]
  },
  {
   "cell_type": "code",
   "execution_count": 2,
   "metadata": {},
   "outputs": [],
   "source": [
    "torch.set_num_threads(12)"
   ]
  },
  {
   "cell_type": "code",
   "execution_count": 3,
   "metadata": {
    "colab": {},
    "colab_type": "code",
    "id": "xRh0dcmvGhl5"
   },
   "outputs": [],
   "source": [
    "train_set_loader, test_set_loader = get_set_loaders()"
   ]
  },
  {
   "cell_type": "markdown",
   "metadata": {
    "colab_type": "text",
    "id": "h8FyB69OGhmd"
   },
   "source": [
    "# Train"
   ]
  },
  {
   "cell_type": "markdown",
   "metadata": {},
   "source": [
    "### Init model"
   ]
  },
  {
   "cell_type": "code",
   "execution_count": 4,
   "metadata": {},
   "outputs": [
    {
     "name": "stdout",
     "output_type": "stream",
     "text": [
      "USING CPU\n",
      "State dict loaded from './models/capsnet_state.pth'\n"
     ]
    }
   ],
   "source": [
    "USE_CUDA = True\n",
    "EPOCHS = 100\n",
    "\n",
    "if USE_CUDA and torch.cuda.is_available():\n",
    "    print('USING CUDA')\n",
    "    device = torch.device('cuda')\n",
    "else:\n",
    "    print('USING CPU')\n",
    "    device = torch.device('cpu')\n",
    "\n",
    "capsnet = CapsNet(cuda=USE_CUDA)\n",
    "try:\n",
    "    capsnet.load_state_dict(\n",
    "        torch.load(open('./models/capsnet_state.pth', 'rb'), map_location=device)\n",
    "    )\n",
    "    print('State dict loaded from \\'./models/capsnet_state.pth\\'')\n",
    "except:\n",
    "    pass\n",
    "\n",
    "capsnet = capsnet.to(device)\n"
   ]
  },
  {
   "cell_type": "markdown",
   "metadata": {},
   "source": [
    "### Optimizer and LR Scheduler"
   ]
  },
  {
   "cell_type": "code",
   "execution_count": 5,
   "metadata": {},
   "outputs": [],
   "source": [
    "optimizer = optim.Adam(capsnet.parameters(), lr=0.01*(0.90**35))\n",
    "exponential_lr = optim.lr_scheduler.ExponentialLR(optimizer, gamma=0.90)"
   ]
  },
  {
   "cell_type": "markdown",
   "metadata": {},
   "source": [
    "### Train loop"
   ]
  },
  {
   "cell_type": "code",
   "execution_count": 6,
   "metadata": {
    "colab": {
     "base_uri": "https://localhost:8080/",
     "height": 238
    },
    "colab_type": "code",
    "id": "98fL8qNRGhmd",
    "outputId": "71dec2ff-8e26-4a71-8389-1f959063a072",
    "scrolled": true
   },
   "outputs": [
    {
     "name": "stdout",
     "output_type": "stream",
     "text": [
      "\n",
      "========== TRAIN ==========\n",
      "==> EPOCH[1](100/469): LOSS: 0.00034670671448111534 ACCURACY: 1.0\n",
      "==> EPOCH[1](200/469): LOSS: 2.797026354528498e-05 ACCURACY: 1.0\n",
      "==> EPOCH[1](300/469): LOSS: 5.710797995561734e-05 ACCURACY: 1.0\n",
      "==> EPOCH[1](400/469): LOSS: 3.8094229239504784e-05 ACCURACY: 1.0\n",
      "=====> EPOCH[1] Completed: Avg. LOSS: 4.545670733676661e-05 Avg. ACCURACY 1.0\n",
      "\n",
      "========== EVAL ==========\n",
      "=====> EPOCH[1]: AVG. ACCURACY: 0.99521484375\n",
      "\n",
      "========== TRAIN ==========\n",
      "==> EPOCH[2](100/469): LOSS: 4.553144390229136e-05 ACCURACY: 1.0\n",
      "==> EPOCH[2](200/469): LOSS: 9.55496943788603e-05 ACCURACY: 1.0\n",
      "==> EPOCH[2](300/469): LOSS: 4.4865431846119463e-05 ACCURACY: 1.0\n",
      "==> EPOCH[2](400/469): LOSS: 3.21540683216881e-05 ACCURACY: 1.0\n",
      "=====> EPOCH[2] Completed: Avg. LOSS: 4.857826933924626e-05 Avg. ACCURACY 1.0\n",
      "\n",
      "========== EVAL ==========\n",
      "=====> EPOCH[2]: AVG. ACCURACY: 0.99521484375\n",
      "\n",
      "========== TRAIN ==========\n",
      "==> EPOCH[3](100/469): LOSS: 2.4436070816591382e-05 ACCURACY: 1.0\n",
      "==> EPOCH[3](200/469): LOSS: 5.281090852804482e-05 ACCURACY: 1.0\n",
      "==> EPOCH[3](300/469): LOSS: 2.6276162316207774e-05 ACCURACY: 1.0\n",
      "==> EPOCH[3](400/469): LOSS: 2.5742292564245872e-05 ACCURACY: 1.0\n",
      "=====> EPOCH[3] Completed: Avg. LOSS: 4.81186585420413e-05 Avg. ACCURACY 1.0\n",
      "\n",
      "========== EVAL ==========\n",
      "=====> EPOCH[3]: AVG. ACCURACY: 0.9951171875\n",
      "\n",
      "========== TRAIN ==========\n",
      "==> EPOCH[4](100/469): LOSS: 3.472981188679114e-05 ACCURACY: 1.0\n",
      "==> EPOCH[4](200/469): LOSS: 3.5706372727872804e-05 ACCURACY: 1.0\n",
      "==> EPOCH[4](300/469): LOSS: 2.3108772438718006e-05 ACCURACY: 1.0\n",
      "==> EPOCH[4](400/469): LOSS: 2.9209244530647993e-05 ACCURACY: 1.0\n"
     ]
    },
    {
     "name": "stderr",
     "output_type": "stream",
     "text": [
      "Traceback (most recent call last):\n",
      "Traceback (most recent call last):\n",
      "  File \"/usr/local/Cellar/python/3.7.4_1/Frameworks/Python.framework/Versions/3.7/lib/python3.7/multiprocessing/queues.py\", line 242, in _feed\n",
      "    send_bytes(obj)\n",
      "  File \"/usr/local/Cellar/python/3.7.4_1/Frameworks/Python.framework/Versions/3.7/lib/python3.7/multiprocessing/connection.py\", line 200, in send_bytes\n",
      "    self._send_bytes(m[offset:offset + size])\n",
      "  File \"/usr/local/Cellar/python/3.7.4_1/Frameworks/Python.framework/Versions/3.7/lib/python3.7/multiprocessing/connection.py\", line 404, in _send_bytes\n",
      "    self._send(header + buf)\n",
      "  File \"/usr/local/Cellar/python/3.7.4_1/Frameworks/Python.framework/Versions/3.7/lib/python3.7/multiprocessing/connection.py\", line 368, in _send\n",
      "    n = write(self._handle, buf)\n",
      "BrokenPipeError: [Errno 32] Broken pipe\n",
      "  File \"/usr/local/Cellar/python/3.7.4_1/Frameworks/Python.framework/Versions/3.7/lib/python3.7/multiprocessing/queues.py\", line 242, in _feed\n",
      "    send_bytes(obj)\n",
      "  File \"/usr/local/Cellar/python/3.7.4_1/Frameworks/Python.framework/Versions/3.7/lib/python3.7/multiprocessing/connection.py\", line 200, in send_bytes\n",
      "    self._send_bytes(m[offset:offset + size])\n",
      "  File \"/usr/local/Cellar/python/3.7.4_1/Frameworks/Python.framework/Versions/3.7/lib/python3.7/multiprocessing/connection.py\", line 404, in _send_bytes\n",
      "    self._send(header + buf)\n",
      "  File \"/usr/local/Cellar/python/3.7.4_1/Frameworks/Python.framework/Versions/3.7/lib/python3.7/multiprocessing/connection.py\", line 368, in _send\n",
      "    n = write(self._handle, buf)\n",
      "BrokenPipeError: [Errno 32] Broken pipe\n"
     ]
    },
    {
     "ename": "KeyboardInterrupt",
     "evalue": "",
     "output_type": "error",
     "traceback": [
      "\u001b[0;31m---------------------------------------------------------------------------\u001b[0m",
      "\u001b[0;31mKeyboardInterrupt\u001b[0m                         Traceback (most recent call last)",
      "\u001b[0;32m<ipython-input-6-72901e2ff83e>\u001b[0m in \u001b[0;36m<module>\u001b[0;34m\u001b[0m\n\u001b[1;32m     23\u001b[0m         \u001b[0maccuracy\u001b[0m \u001b[0;34m=\u001b[0m \u001b[0mtorch\u001b[0m\u001b[0;34m.\u001b[0m\u001b[0msum\u001b[0m\u001b[0;34m(\u001b[0m\u001b[0;34m(\u001b[0m\u001b[0mmost_active_idx\u001b[0m \u001b[0;34m==\u001b[0m \u001b[0mtargets\u001b[0m\u001b[0;34m)\u001b[0m\u001b[0;34m)\u001b[0m\u001b[0;34m.\u001b[0m\u001b[0mitem\u001b[0m\u001b[0;34m(\u001b[0m\u001b[0;34m)\u001b[0m \u001b[0;34m/\u001b[0m \u001b[0mtargets\u001b[0m\u001b[0;34m.\u001b[0m\u001b[0msize\u001b[0m\u001b[0;34m(\u001b[0m\u001b[0;36m0\u001b[0m\u001b[0;34m)\u001b[0m\u001b[0;34m\u001b[0m\u001b[0;34m\u001b[0m\u001b[0m\n\u001b[1;32m     24\u001b[0m         \u001b[0;31m# Backward\u001b[0m\u001b[0;34m\u001b[0m\u001b[0;34m\u001b[0m\u001b[0;34m\u001b[0m\u001b[0m\n\u001b[0;32m---> 25\u001b[0;31m         \u001b[0mloss\u001b[0m\u001b[0;34m.\u001b[0m\u001b[0mbackward\u001b[0m\u001b[0;34m(\u001b[0m\u001b[0;34m)\u001b[0m\u001b[0;34m\u001b[0m\u001b[0;34m\u001b[0m\u001b[0m\n\u001b[0m\u001b[1;32m     26\u001b[0m         \u001b[0;31m# Optim step\u001b[0m\u001b[0;34m\u001b[0m\u001b[0;34m\u001b[0m\u001b[0;34m\u001b[0m\u001b[0m\n\u001b[1;32m     27\u001b[0m         \u001b[0moptimizer\u001b[0m\u001b[0;34m.\u001b[0m\u001b[0mstep\u001b[0m\u001b[0;34m(\u001b[0m\u001b[0;34m)\u001b[0m\u001b[0;34m\u001b[0m\u001b[0;34m\u001b[0m\u001b[0m\n",
      "\u001b[0;32m~/.local/share/virtualenvs/capsnets-0ttV1p5F/lib/python3.7/site-packages/torch/tensor.py\u001b[0m in \u001b[0;36mbackward\u001b[0;34m(self, gradient, retain_graph, create_graph)\u001b[0m\n\u001b[1;32m    148\u001b[0m                 \u001b[0mproducts\u001b[0m\u001b[0;34m.\u001b[0m \u001b[0mDefaults\u001b[0m \u001b[0mto\u001b[0m\u001b[0;31m \u001b[0m\u001b[0;31m`\u001b[0m\u001b[0;31m`\u001b[0m\u001b[0;32mFalse\u001b[0m\u001b[0;31m`\u001b[0m\u001b[0;31m`\u001b[0m\u001b[0;34m.\u001b[0m\u001b[0;34m\u001b[0m\u001b[0;34m\u001b[0m\u001b[0m\n\u001b[1;32m    149\u001b[0m         \"\"\"\n\u001b[0;32m--> 150\u001b[0;31m         \u001b[0mtorch\u001b[0m\u001b[0;34m.\u001b[0m\u001b[0mautograd\u001b[0m\u001b[0;34m.\u001b[0m\u001b[0mbackward\u001b[0m\u001b[0;34m(\u001b[0m\u001b[0mself\u001b[0m\u001b[0;34m,\u001b[0m \u001b[0mgradient\u001b[0m\u001b[0;34m,\u001b[0m \u001b[0mretain_graph\u001b[0m\u001b[0;34m,\u001b[0m \u001b[0mcreate_graph\u001b[0m\u001b[0;34m)\u001b[0m\u001b[0;34m\u001b[0m\u001b[0;34m\u001b[0m\u001b[0m\n\u001b[0m\u001b[1;32m    151\u001b[0m \u001b[0;34m\u001b[0m\u001b[0m\n\u001b[1;32m    152\u001b[0m     \u001b[0;32mdef\u001b[0m \u001b[0mregister_hook\u001b[0m\u001b[0;34m(\u001b[0m\u001b[0mself\u001b[0m\u001b[0;34m,\u001b[0m \u001b[0mhook\u001b[0m\u001b[0;34m)\u001b[0m\u001b[0;34m:\u001b[0m\u001b[0;34m\u001b[0m\u001b[0;34m\u001b[0m\u001b[0m\n",
      "\u001b[0;32m~/.local/share/virtualenvs/capsnets-0ttV1p5F/lib/python3.7/site-packages/torch/autograd/__init__.py\u001b[0m in \u001b[0;36mbackward\u001b[0;34m(tensors, grad_tensors, retain_graph, create_graph, grad_variables)\u001b[0m\n\u001b[1;32m     97\u001b[0m     Variable._execution_engine.run_backward(\n\u001b[1;32m     98\u001b[0m         \u001b[0mtensors\u001b[0m\u001b[0;34m,\u001b[0m \u001b[0mgrad_tensors\u001b[0m\u001b[0;34m,\u001b[0m \u001b[0mretain_graph\u001b[0m\u001b[0;34m,\u001b[0m \u001b[0mcreate_graph\u001b[0m\u001b[0;34m,\u001b[0m\u001b[0;34m\u001b[0m\u001b[0;34m\u001b[0m\u001b[0m\n\u001b[0;32m---> 99\u001b[0;31m         allow_unreachable=True)  # allow_unreachable flag\n\u001b[0m\u001b[1;32m    100\u001b[0m \u001b[0;34m\u001b[0m\u001b[0m\n\u001b[1;32m    101\u001b[0m \u001b[0;34m\u001b[0m\u001b[0m\n",
      "\u001b[0;31mKeyboardInterrupt\u001b[0m: "
     ]
    }
   ],
   "source": [
    "for epoch in range(1, EPOCHS+1):\n",
    "    \n",
    "    print()\n",
    "    print('='*10, 'TRAIN', '='*10)\n",
    "    capsnet.train()\n",
    "    running_loss = 0.0\n",
    "    running_accuracy = 0.0\n",
    "    \n",
    "    for i, batch in enumerate(train_set_loader, 1):        \n",
    "        # Load the batch\n",
    "        images, targets = batch\n",
    "        images = images.to(device)\n",
    "        targets = targets.to(device)\n",
    "        \n",
    "        # Zero grad\n",
    "        optimizer.zero_grad()\n",
    "        # Forward\n",
    "        output, norm, reconstruction = capsnet(images, targets)\n",
    "        # Compute loss\n",
    "        loss = CapsNet.loss(norm, targets, reconstruction, images)\n",
    "        # Compute accuracy\n",
    "        most_active_idx = norm.argmax(dim=1)\n",
    "        accuracy = torch.sum((most_active_idx == targets)).item() / targets.size(0)\n",
    "        # Backward\n",
    "        loss.backward()\n",
    "        # Optim step\n",
    "        optimizer.step()\n",
    "        \n",
    "        # Add loss\n",
    "        running_loss += loss.item()\n",
    "        # Add accuracy\n",
    "        running_accuracy += accuracy\n",
    "        \n",
    "        if i % 100 == 0:\n",
    "            print(f'==> EPOCH[{epoch}]({i}/{len(train_set_loader)}): LOSS: {loss.item()} ACCURACY: {accuracy}')\n",
    "            \n",
    "    print(f'=====> EPOCH[{epoch}] Completed: Avg. LOSS: {running_loss/len(train_set_loader)} Avg. ACCURACY {running_accuracy/len(train_set_loader)}')\n",
    "    \n",
    "    print()\n",
    "    print('='*10, 'EVAL', '='*10)\n",
    "    capsnet.eval()\n",
    "    running_accuracy = 0.0\n",
    "    \n",
    "    for i, batch in enumerate(test_set_loader, 1):\n",
    "\n",
    "        # Load the batch\n",
    "        images, targets = batch\n",
    "        images = images.to(device)\n",
    "        targets = targets.to(device)\n",
    "        \n",
    "        with torch.no_grad():\n",
    "            # Forward\n",
    "            output, norm, reconstruction = capsnet(images)\n",
    "            most_active_idx = norm.argmax(dim=1)\n",
    "            running_accuracy += torch.sum((most_active_idx == targets)).item() / targets.size(0)\n",
    "\n",
    "    print(f'=====> EPOCH[{epoch}]: AVG. ACCURACY: {running_accuracy/len(test_set_loader)}')\n",
    "    \n",
    "    # Reduce lr\n",
    "    exponential_lr.step()"
   ]
  },
  {
   "cell_type": "code",
   "execution_count": null,
   "metadata": {},
   "outputs": [],
   "source": []
  },
  {
   "cell_type": "code",
   "execution_count": null,
   "metadata": {},
   "outputs": [],
   "source": []
  },
  {
   "cell_type": "code",
   "execution_count": null,
   "metadata": {},
   "outputs": [],
   "source": []
  }
 ],
 "metadata": {
  "accelerator": "GPU",
  "colab": {
   "name": "capsnet/main.ipynb",
   "provenance": []
  },
  "kernelspec": {
   "display_name": "Python 3",
   "language": "python",
   "name": "python3"
  },
  "language_info": {
   "codemirror_mode": {
    "name": "ipython",
    "version": 3
   },
   "file_extension": ".py",
   "mimetype": "text/x-python",
   "name": "python",
   "nbconvert_exporter": "python",
   "pygments_lexer": "ipython3",
   "version": "3.7.4"
  }
 },
 "nbformat": 4,
 "nbformat_minor": 1
}
